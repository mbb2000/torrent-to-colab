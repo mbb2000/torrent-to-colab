{
  "nbformat": 4,
  "nbformat_minor": 0,
  "metadata": {
    "colab": {
      "name": "torrent_download_to_colab.ipynb",
      "provenance": [],
      "collapsed_sections": []
    },
    "kernelspec": {
      "name": "python3",
      "display_name": "Python 3"
    }
  },
  "cells": [
    {
      "cell_type": "code",
      "metadata": {
        "id": "yPwxjcn0hEHD",
        "colab": {
          "base_uri": "https://localhost:8080/"
        },
        "outputId": "64ecada1-31b7-4080-e15f-755ce1e4fe9d"
      },
      "source": [
        "!apt install python3-libtorrent\r\n",
        "import libtorrent as lt\r\n",
        "import os\r\n",
        "import shutil\r\n",
        "import time\r\n",
        "import datetime\r\n",
        "from google.colab import files\r\n",
        "from IPython.display import clear_output"
      ],
      "execution_count": 50,
      "outputs": [
        {
          "output_type": "stream",
          "text": [
            "Reading package lists... Done\n",
            "Building dependency tree       \n",
            "Reading state information... Done\n",
            "python3-libtorrent is already the newest version (1.1.5-1build1).\n",
            "0 upgraded, 0 newly installed, 0 to remove and 15 not upgraded.\n"
          ],
          "name": "stdout"
        }
      ]
    },
    {
      "cell_type": "code",
      "metadata": {
        "id": "JvW4HY14pptM"
      },
      "source": [
        "if os.path.exists(\"/content/torrent_dir\"):\r\n",
        "  shutil.rmtree(\"/content/torrent_dir\")\r\n",
        "\r\n",
        "os.mkdir(\"/content/torrent_dir\")\r\n",
        "down_dir = \"/content/torrent_dir\""
      ],
      "execution_count": 85,
      "outputs": []
    },
    {
      "cell_type": "code",
      "metadata": {
        "colab": {
          "resources": {
            "http://localhost:8080/nbextensions/google.colab/files.js": {
              "data": "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",
              "ok": true,
              "headers": [
                [
                  "content-type",
                  "application/javascript"
                ]
              ],
              "status": 200,
              "status_text": ""
            }
          },
          "base_uri": "https://localhost:8080/",
          "height": 73
        },
        "id": "ULzx1OFWqiIl",
        "outputId": "341db0f0-914b-42db-c02d-24f423c3d0fd"
      },
      "source": [
        "torrent_file = files.upload()\r\n",
        "torrent_file_dir = os.path.abspath(list(torrent_file.keys())[0])"
      ],
      "execution_count": 83,
      "outputs": [
        {
          "output_type": "display_data",
          "data": {
            "text/html": [
              "\n",
              "     <input type=\"file\" id=\"files-7392ce8b-78d2-4dce-8b8b-711c8f78d9a5\" name=\"files[]\" multiple disabled\n",
              "        style=\"border:none\" />\n",
              "     <output id=\"result-7392ce8b-78d2-4dce-8b8b-711c8f78d9a5\">\n",
              "      Upload widget is only available when the cell has been executed in the\n",
              "      current browser session. Please rerun this cell to enable.\n",
              "      </output>\n",
              "      <script src=\"/nbextensions/google.colab/files.js\"></script> "
            ],
            "text/plain": [
              "<IPython.core.display.HTML object>"
            ]
          },
          "metadata": {
            "tags": []
          }
        },
        {
          "output_type": "stream",
          "text": [
            "Saving Shirley (2020) [1080p] [WEBRip] [5.1] [YTS.MX].torrent to Shirley (2020) [1080p] [WEBRip] [5.1] [YTS.MX].torrent\n"
          ],
          "name": "stdout"
        }
      ]
    },
    {
      "cell_type": "code",
      "metadata": {
        "id": "i5rwfDWlqiwS"
      },
      "source": [
        "ses= lt.session()\r\n",
        "ses.pause()\r\n",
        "info = lt.torrent_info(torrent_file_dir)\r\n",
        "ses.listen_on(6881, 6891)\r\n",
        "params = {\r\n",
        "    'ti':info,\r\n",
        "    'save_path': '/content/torrent_dir',\r\n",
        "    'storage_mode': lt.storage_mode_t(2),\r\n",
        "    'paused': True,\r\n",
        "    'auto_managed': True,\r\n",
        "    'duplicate_is_error': True,\r\n",
        "    'flat_merge_resume_trackers': True\r\n",
        "    }\r\n",
        "\r\n",
        "ses.pause()\r\n",
        "handle = ses.add_torrent(params)"
      ],
      "execution_count": 84,
      "outputs": []
    },
    {
      "cell_type": "code",
      "metadata": {
        "colab": {
          "base_uri": "https://localhost:8080/"
        },
        "id": "-wzXZOGX037j",
        "outputId": "4665f68b-24e9-4e8a-b174-c2f530a9c366"
      },
      "source": [
        "for x in range(info.files().num_files()):\r\n",
        "  full_path = info.files().file_path(x)\r\n",
        "  print(full_path)"
      ],
      "execution_count": 87,
      "outputs": [
        {
          "output_type": "stream",
          "text": [
            "Shirley (2020) [1080p] [WEBRip] [5.1] [YTS.MX]/Shirley.2020.1080p.WEBRip.x264.AAC5.1-[YTS.MX].mp4\n",
            "Shirley (2020) [1080p] [WEBRip] [5.1] [YTS.MX]/www.YTS.MX.jpg\n"
          ],
          "name": "stdout"
        }
      ]
    },
    {
      "cell_type": "code",
      "metadata": {
        "colab": {
          "base_uri": "https://localhost:8080/"
        },
        "id": "E74UrsqweXRn",
        "outputId": "c8aeff6e-a912-43a3-c82d-45219d006fd7"
      },
      "source": [
        "folder_dict = {'top':[],'second':[],'third':[],'second_show':[]}\r\n",
        "dict_key = ['top','second','third']\r\n",
        "for x in range(info.files().num_files()):\r\n",
        "  full_path = info.files().file_path(x)\r\n",
        "  split_list = full_path.split('/')\r\n",
        "  if len(full_path.split('/')) == 2:\r\n",
        "    dict_key.pop()\r\n",
        "  for i,j in enumerate(dict_key):\r\n",
        "    nam = split_list[i]\r\n",
        "    if nam not in folder_dict[j]:\r\n",
        "      folder_dict[j].append(nam)\r\n",
        "\r\n",
        "for num,i in enumerate(folder_dict['second']):\r\n",
        "  sp = i.split('.')\r\n",
        "  try:  \r\n",
        "    if int(sp[0]) in list(range(0,10)):\r\n",
        "      folder_dict['second_show'].append('0'+i)\r\n",
        "    else:\r\n",
        "      folder_dict['second_show'].append(i)\r\n",
        "\r\n",
        "  except:\r\n",
        "    folder_dict['second_show'].append(i)\r\n",
        "\r\n",
        "for name in sorted(folder_dict['top']):\r\n",
        "  print(name,\"\\n*****************************\")\r\n",
        "for i,name in enumerate(sorted(folder_dict['second_show'])):\r\n",
        "  print(f'{i:3}',' ',name)"
      ],
      "execution_count": 101,
      "outputs": [
        {
          "output_type": "stream",
          "text": [
            "Shirley (2020) [1080p] [WEBRip] [5.1] [YTS.MX] \n",
            "*****************************\n",
            "  0   Shirley.2020.1080p.WEBRip.x264.AAC5.1-[YTS.MX].mp4\n"
          ],
          "name": "stdout"
        }
      ]
    },
    {
      "cell_type": "code",
      "metadata": {
        "colab": {
          "base_uri": "https://localhost:8080/"
        },
        "id": "vd6pJ6p6f6Xg",
        "outputId": "372c3866-e98b-4916-adb9-ac3ee9a7c21f"
      },
      "source": [
        "download_list = []\r\n",
        "num_files = info.files().num_files()\r\n",
        "print(num_files)\r\n",
        "prios = [0] * num_files\r\n",
        "while True:\r\n",
        "  x = input(\"please input index to download. Input 'all' to download all, \\n'del' remove input and 'break' to finish!\\nYour input:  \")\r\n",
        "  try:\r\n",
        "    if int(x) <= num_files:\r\n",
        "      download_list.append(int(x))\r\n",
        "      print(download_list)\r\n",
        "    \r\n",
        "    else:\r\n",
        "      print(\"please input a valid index.\")\r\n",
        "\r\n",
        "  except:\r\n",
        "    if x == \"all\":\r\n",
        "      download_list = [7] * num_files\r\n",
        "      break\r\n",
        "    elif x == \"break\":\r\n",
        "      print(\"break!\")\r\n",
        "      break\r\n",
        "    elif x == \"del\":\r\n",
        "      print(\"deleted last input!\")\r\n",
        "      download_list.pop()\r\n",
        "      print(download_list)\r\n",
        "    else:\r\n",
        "      print(\"please type a valid input.\")\r\n",
        "\r\n",
        "print_list = ['❌']*len(folder_dict['second_show'])\r\n",
        "for i in download_list:\r\n",
        "  print_list[i] = \"✅\"\r\n",
        "\r\n",
        "for name in sorted(folder_dict['top']):\r\n",
        "  print(\"\\n\\nDonwload_list check\\n\\n*********************************\\n\")\r\n",
        "for i,name in enumerate(sorted(folder_dict['second_show'])):\r\n",
        "  print(f'{print_list[i]}{i:3}',' ',name)"
      ],
      "execution_count": 105,
      "outputs": [
        {
          "output_type": "stream",
          "text": [
            "2\n",
            "please input index to download. Input 'all' to download all, \n",
            "'del' remove input and 'break' to finish!\n",
            "Your input:  0\n",
            "[0]\n",
            "please input index to download. Input 'all' to download all, \n",
            "'del' remove input and 'break' to finish!\n",
            "Your input:  break\n",
            "break!\n",
            "\n",
            "\n",
            "Donwload_list check\n",
            "\n",
            "*********************************\n",
            "\n",
            "✅  0   Shirley.2020.1080p.WEBRip.x264.AAC5.1-[YTS.MX].mp4\n"
          ],
          "name": "stdout"
        }
      ]
    },
    {
      "cell_type": "code",
      "metadata": {
        "colab": {
          "base_uri": "https://localhost:8080/"
        },
        "id": "xbJI-DAXo4I3",
        "outputId": "81d0049b-f12e-43d9-fbfc-c35f5fd5fe27"
      },
      "source": [
        "sorted_idx = []\r\n",
        "num_prev = 0\r\n",
        "KEEPON = True\r\n",
        "while KEEPON:\r\n",
        "  for i in sorted(folder_dict['second']):\r\n",
        "    if type(list(i)[0]) != type(1):\r\n",
        "      print(\"file names not start with digit!\")\r\n",
        "      sorted_idx = folder_dict['second']\r\n",
        "      KEEPON = False\r\n",
        "      break    \r\n",
        "    num = int(i.split(\".\")[0])\r\n",
        "    if not sorted_idx:\r\n",
        "      sorted_idx.append(i)\r\n",
        "    elif num == 1 + int(sorted_idx[-1].split('.')[0]):\r\n",
        "      sorted_idx.append(i)\r\n",
        "    elif len(sorted_idx) == len(folder_dict['second']):\r\n",
        "      KEEPON = False\r\n",
        "      break \r\n",
        "    else: pass\r\n",
        "  \r\n",
        "for i in sorted_idx:\r\n",
        "  print(i)\r\n"
      ],
      "execution_count": 109,
      "outputs": [
        {
          "output_type": "stream",
          "text": [
            "file names not start with digit!\n",
            "Shirley.2020.1080p.WEBRip.x264.AAC5.1-[YTS.MX].mp4\n"
          ],
          "name": "stdout"
        }
      ]
    },
    {
      "cell_type": "code",
      "metadata": {
        "colab": {
          "base_uri": "https://localhost:8080/"
        },
        "id": "VR4ci4kie1TZ",
        "outputId": "9ea10572-a635-414a-f241-a22e00760a81"
      },
      "source": [
        "download_names = []\r\n",
        "download_index = []\r\n",
        "for i in download_list:\r\n",
        "  download_names.append(sorted_idx[i])\r\n",
        "\r\n",
        "for index,x in enumerate(range(info.files().num_files())):\r\n",
        "  full_path = info.files().file_path(x)\r\n",
        "  for name in download_names:\r\n",
        "    if name in full_path.split('/'):\r\n",
        "      print(full_path)\r\n",
        "      download_index.append(index)\r\n",
        "\r\n",
        "print(\"\\n\\nAbove files are about to be downloaded...\")"
      ],
      "execution_count": 111,
      "outputs": [
        {
          "output_type": "stream",
          "text": [
            "Shirley (2020) [1080p] [WEBRip] [5.1] [YTS.MX]/Shirley.2020.1080p.WEBRip.x264.AAC5.1-[YTS.MX].mp4\n",
            "\n",
            "\n",
            "Above files are about to be downloaded...\n"
          ],
          "name": "stdout"
        }
      ]
    },
    {
      "cell_type": "code",
      "metadata": {
        "colab": {
          "base_uri": "https://localhost:8080/"
        },
        "id": "hMGF2RqVfNQR",
        "outputId": "48305a7c-85a0-44c9-aa12-fadf3ae1f457"
      },
      "source": [
        "for i in download_index:\r\n",
        "  prios[i] = 7\r\n",
        "handle.prioritize_files(prios)\r\n",
        "handle.prioritize_pieces(prios)\r\n",
        "\r\n",
        "ses.resume()\r\n",
        "handle.resume()\r\n",
        "\r\n",
        "ses.start_dht()\r\n",
        "print(\"download started @ \",datetime.datetime.now())\r\n",
        "print(\"Downloading : \",handle.name())\r\n",
        "\r\n",
        "while handle.status().state != lt.torrent_status.seeding:\r\n",
        "  s= handle.status()\r\n",
        "  state_str = ['queued', 'checking', 'downloading metadata', \r\n",
        "              'downloading', 'finished', 'seeding', 'allocating']\r\n",
        "  clear_output(wait=True)\r\n",
        "  print ('%.4f%% complete (down: %.1f kb/s up: %.1f kB/s seeds:%d peers: %d) %s ' %(s.progress * 100,\r\n",
        "          s.download_rate / 1000, s.upload_rate / 1000, s.num_seeds, s.num_peers, state_str[s.state]))\r\n",
        "  time.sleep(0.1)\r\n",
        "  if state_str[s.state] == \"finished\":\r\n",
        "    break\r\n",
        "print(\"download completed!\")"
      ],
      "execution_count": 112,
      "outputs": [
        {
          "output_type": "stream",
          "text": [
            "100.0000% complete (down: 2089.0 kb/s up: 68.3 kB/s seeds:0 peers: 44) finished \n",
            "download completed!\n"
          ],
          "name": "stdout"
        }
      ]
    },
    {
      "cell_type": "code",
      "metadata": {
        "id": "5knJfT6nB2hc"
      },
      "source": [
        "from google.colab import drive\n",
        "drive.mount('/content/drive')"
      ],
      "execution_count": null,
      "outputs": []
    }
  ]
}