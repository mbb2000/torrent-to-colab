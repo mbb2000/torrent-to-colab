{
  "nbformat": 4,
  "nbformat_minor": 0,
  "metadata": {
    "colab": {
      "name": "torrent_download_to_colab.ipynb",
      "provenance": [],
      "collapsed_sections": []
    },
    "kernelspec": {
      "name": "python3",
      "display_name": "Python 3"
    }
  },
  "cells": [
    {
      "cell_type": "code",
      "metadata": {
        "id": "yPwxjcn0hEHD"
      },
      "source": [
        "!apt install python3-libtorrent\r\n",
        "import libtorrent as lt\r\n",
        "import os\r\n",
        "import shutil\r\n",
        "import time\r\n",
        "import datetime\r\n",
        "from google.colab import files\r\n",
        "from IPython.display import clear_output"
      ],
      "execution_count": null,
      "outputs": []
    },
    {
      "cell_type": "code",
      "metadata": {
        "id": "JvW4HY14pptM"
      },
      "source": [
        "if os.path.exists(\"/content/torrent_dir\"):\r\n",
        "  shutil.rmtree(\"/content/torrent_dir\")\r\n",
        "\r\n",
        "os.mkdir(\"/content/torrent_dir\")\r\n",
        "down_dir = \"/content/torrent_dir\""
      ],
      "execution_count": 85,
      "outputs": []
    },
    {
      "cell_type": "code",
      "metadata": {
        "id": "ULzx1OFWqiIl"
      },
      "source": [
        "torrent_file = files.upload()\r\n",
        "torrent_file_dir = os.path.abspath(list(torrent_file.keys())[0])"
      ],
      "execution_count": null,
      "outputs": []
    },
    {
      "cell_type": "code",
      "metadata": {
        "id": "i5rwfDWlqiwS"
      },
      "source": [
        "ses= lt.session()\r\n",
        "ses.pause()\r\n",
        "info = lt.torrent_info(torrent_file_dir)\r\n",
        "ses.listen_on(6881, 6891)\r\n",
        "params = {\r\n",
        "    'ti':info,\r\n",
        "    'save_path': '/content/torrent_dir',\r\n",
        "    'storage_mode': lt.storage_mode_t(2),\r\n",
        "    'paused': True,\r\n",
        "    'auto_managed': True,\r\n",
        "    'duplicate_is_error': True,\r\n",
        "    'flat_merge_resume_trackers': True\r\n",
        "    }\r\n",
        "\r\n",
        "ses.pause()\r\n",
        "handle = ses.add_torrent(params)"
      ],
      "execution_count": 84,
      "outputs": []
    },
    {
      "cell_type": "code",
      "metadata": {
        "id": "-wzXZOGX037j"
      },
      "source": [
        "for x in range(info.files().num_files()):\r\n",
        "  full_path = info.files().file_path(x)\r\n",
        "  print(full_path)"
      ],
      "execution_count": null,
      "outputs": []
    },
    {
      "cell_type": "code",
      "metadata": {
        "id": "E74UrsqweXRn"
      },
      "source": [
        "folder_dict = {'top':[],'second':[],'third':[],'second_show':[]}\r\n",
        "dict_key = ['top','second','third']\r\n",
        "for x in range(info.files().num_files()):\r\n",
        "  full_path = info.files().file_path(x)\r\n",
        "  split_list = full_path.split('/')\r\n",
        "  if len(full_path.split('/')) == 2:\r\n",
        "    dict_key.pop()\r\n",
        "  for i,j in enumerate(dict_key):\r\n",
        "    nam = split_list[i]\r\n",
        "    if nam not in folder_dict[j]:\r\n",
        "      folder_dict[j].append(nam)\r\n",
        "\r\n",
        "for num,i in enumerate(folder_dict['second']):\r\n",
        "  sp = i.split('.')\r\n",
        "  try:  \r\n",
        "    if int(sp[0]) in list(range(0,10)):\r\n",
        "      folder_dict['second_show'].append('0'+i)\r\n",
        "    else:\r\n",
        "      folder_dict['second_show'].append(i)\r\n",
        "\r\n",
        "  except:\r\n",
        "    folder_dict['second_show'].append(i)\r\n",
        "\r\n",
        "for name in sorted(folder_dict['top']):\r\n",
        "  print(name,\"\\n*****************************\")\r\n",
        "for i,name in enumerate(sorted(folder_dict['second_show'])):\r\n",
        "  print(f'{i:3}',' ',name)"
      ],
      "execution_count": null,
      "outputs": []
    },
    {
      "cell_type": "code",
      "metadata": {
        "id": "vd6pJ6p6f6Xg"
      },
      "source": [
        "download_list = []\r\n",
        "num_files = info.files().num_files()\r\n",
        "print(num_files)\r\n",
        "prios = [0] * num_files\r\n",
        "while True:\r\n",
        "  x = input(\"please input index to download. Input 'all' to download all, \\n'del' remove input and 'break' to finish!\\nYour input:  \")\r\n",
        "  try:\r\n",
        "    if int(x) <= num_files:\r\n",
        "      download_list.append(int(x))\r\n",
        "      print(download_list)\r\n",
        "    \r\n",
        "    else:\r\n",
        "      print(\"please input a valid index.\")\r\n",
        "\r\n",
        "  except:\r\n",
        "    if x == \"all\":\r\n",
        "      download_list = [7] * num_files\r\n",
        "      break\r\n",
        "    elif x == \"break\":\r\n",
        "      print(\"break!\")\r\n",
        "      break\r\n",
        "    elif x == \"del\":\r\n",
        "      print(\"deleted last input!\")\r\n",
        "      download_list.pop()\r\n",
        "      print(download_list)\r\n",
        "    else:\r\n",
        "      print(\"please type a valid input.\")\r\n",
        "\r\n",
        "print_list = ['❌']*len(folder_dict['second_show'])\r\n",
        "for i in download_list:\r\n",
        "  print_list[i] = \"✅\"\r\n",
        "\r\n",
        "for name in sorted(folder_dict['top']):\r\n",
        "  print(\"\\n\\nDonwload_list check\\n\\n*********************************\\n\")\r\n",
        "for i,name in enumerate(sorted(folder_dict['second_show'])):\r\n",
        "  print(f'{print_list[i]}{i:3}',' ',name)"
      ],
      "execution_count": null,
      "outputs": []
    },
    {
      "cell_type": "code",
      "metadata": {
        "id": "xbJI-DAXo4I3"
      },
      "source": [
        "sorted_idx = []\r\n",
        "num_prev = 0\r\n",
        "KEEPON = True\r\n",
        "while KEEPON:\r\n",
        "  for i in sorted(folder_dict['second']):\r\n",
        "    if type(list(i)[0]) != type(1):\r\n",
        "      print(\"file names not start with digit!\")\r\n",
        "      sorted_idx = folder_dict['second']\r\n",
        "      KEEPON = False\r\n",
        "      break    \r\n",
        "    num = int(i.split(\".\")[0])\r\n",
        "    if not sorted_idx:\r\n",
        "      sorted_idx.append(i)\r\n",
        "    elif num == 1 + int(sorted_idx[-1].split('.')[0]):\r\n",
        "      sorted_idx.append(i)\r\n",
        "    elif len(sorted_idx) == len(folder_dict['second']):\r\n",
        "      KEEPON = False\r\n",
        "      break \r\n",
        "    else: pass\r\n",
        "  \r\n",
        "for i in sorted_idx:\r\n",
        "  print(i)\r\n"
      ],
      "execution_count": null,
      "outputs": []
    },
    {
      "cell_type": "code",
      "metadata": {
        "id": "VR4ci4kie1TZ"
      },
      "source": [
        "download_names = []\r\n",
        "download_index = []\r\n",
        "for i in download_list:\r\n",
        "  download_names.append(sorted_idx[i])\r\n",
        "\r\n",
        "for index,x in enumerate(range(info.files().num_files())):\r\n",
        "  full_path = info.files().file_path(x)\r\n",
        "  for name in download_names:\r\n",
        "    if name in full_path.split('/'):\r\n",
        "      print(full_path)\r\n",
        "      download_index.append(index)\r\n",
        "\r\n",
        "print(\"\\n\\nAbove files are about to be downloaded...\")"
      ],
      "execution_count": null,
      "outputs": []
    },
    {
      "cell_type": "code",
      "metadata": {
        "id": "hMGF2RqVfNQR"
      },
      "source": [
        "for i in download_index:\r\n",
        "  prios[i] = 7\r\n",
        "handle.prioritize_files(prios)\r\n",
        "handle.prioritize_pieces(prios)\r\n",
        "\r\n",
        "ses.resume()\r\n",
        "handle.resume()\r\n",
        "\r\n",
        "ses.start_dht()\r\n",
        "print(\"download started @ \",datetime.datetime.now())\r\n",
        "print(\"Downloading : \",handle.name())\r\n",
        "\r\n",
        "while handle.status().state != lt.torrent_status.seeding:\r\n",
        "  s= handle.status()\r\n",
        "  state_str = ['queued', 'checking', 'downloading metadata', \r\n",
        "              'downloading', 'finished', 'seeding', 'allocating']\r\n",
        "  clear_output(wait=True)\r\n",
        "  print ('%.4f%% complete (down: %.1f kb/s up: %.1f kB/s seeds:%d peers: %d) %s ' %(s.progress * 100,\r\n",
        "          s.download_rate / 1000, s.upload_rate / 1000, s.num_seeds, s.num_peers, state_str[s.state]))\r\n",
        "  time.sleep(0.1)\r\n",
        "  if state_str[s.state] == \"finished\":\r\n",
        "    break\r\n",
        "print(\"download completed!\")"
      ],
      "execution_count": null,
      "outputs": []
    },
    {
      "cell_type": "code",
      "metadata": {
        "id": "5knJfT6nB2hc"
      },
      "source": [
        "from google.colab import drive\n",
        "drive.mount('/content/drive')"
      ],
      "execution_count": null,
      "outputs": []
    }
  ]
}